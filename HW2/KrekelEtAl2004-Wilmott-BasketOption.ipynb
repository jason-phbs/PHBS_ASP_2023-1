{
 "cells": [
  {
   "cell_type": "markdown",
   "metadata": {},
   "source": [
    "# KrekelEtAl2004-Wilmott-BasketOption"
   ]
  },
  {
   "cell_type": "markdown",
   "metadata": {},
   "source": [
    "### Paper Information\n",
    "Krekel, M., de Kock, J., Korn, R., & Man, T.-K. (2004). __An analysis of pricing methods for basket options__. Wilmott Magazine, 2004(7), 82–89.\n",
    "\n",
    "### Abstract\n",
    "This paper deals with the task of pricing basket options. Here, the main problem is not path-dependency but the multi-dimensionality which makes it impossible to give exact analytical representations of the option price. We review the literature and compare six different methods in a systematic way. Thereby we also look at the influence of various parameters such as strike, correlation, forwards or volatilities on the performance of the different approximations.\n",
    "\n",
    "### Keywords and Phrases\n",
    "Exotic options, basket options, numerical methods"
   ]
  },
  {
   "cell_type": "markdown",
   "metadata": {},
   "source": [
    "## Note\n",
    "* `Levy`, `MP-RG`, and `MP-4M` methods are currently available"
   ]
  },
  {
   "cell_type": "code",
   "execution_count": 6,
   "metadata": {
    "ExecuteTime": {
     "end_time": "2024-03-08T03:59:40.419182500Z",
     "start_time": "2024-03-08T03:59:39.134636300Z"
    }
   },
   "outputs": [
    {
     "name": "stdout",
     "output_type": "stream",
     "text": [
      "The autoreload extension is already loaded. To reload it, use:\n",
      "  %reload_ext autoreload\n"
     ]
    }
   ],
   "source": [
    "%load_ext autoreload\n",
    "%autoreload 2"
   ]
  },
  {
   "cell_type": "code",
   "execution_count": 7,
   "metadata": {
    "ExecuteTime": {
     "end_time": "2024-03-08T03:59:40.516342500Z",
     "start_time": "2024-03-08T03:59:40.423194200Z"
    }
   },
   "outputs": [],
   "source": [
    "import numpy as np\n",
    "import pandas as pd\n",
    "import os\n",
    "\n",
    "### Uncomment below if you want to run on your own modified code\n",
    "#import sys\n",
    "#sys.path.insert(sys.path.index('')+1, 'D:/Github/PyFENG')\n",
    "import pyfeng as pf"
   ]
  },
  {
   "cell_type": "code",
   "execution_count": 8,
   "metadata": {
    "ExecuteTime": {
     "end_time": "2024-03-08T03:59:40.546828100Z",
     "start_time": "2024-03-08T03:59:40.492337200Z"
    }
   },
   "outputs": [],
   "source": [
    "texp = 5\n",
    "rho = 0.5\n",
    "o4 = np.ones(4)\n",
    "sigma = o4 * 0.4\n",
    "file = 'KrekelEtAl2004-Wilmott-BasketOption.xlsx'"
   ]
  },
  {
   "cell_type": "markdown",
   "metadata": {},
   "source": [
    "# Table 1\n",
    "## Changing Correlation"
   ]
  },
  {
   "cell_type": "code",
   "execution_count": 9,
   "metadata": {
    "ExecuteTime": {
     "end_time": "2024-03-08T03:59:40.648303800Z",
     "start_time": "2024-03-08T03:59:40.546828100Z"
    }
   },
   "outputs": [
    {
     "data": {
      "text/plain": "    Cor  Beisser  Gentle     Ju   Levy  MP-RG  MP-4M  MC-CV  StdDEv    Exact\n0  0.10    20.12   15.36  21.77  22.06  20.25  21.36  21.62  0.0319  21.6921\n1  0.30    24.21   19.62  25.05  25.17  22.54  24.91  24.97  0.0249  25.0293\n2  0.50    27.63   23.78  28.01  28.05  24.50  27.98  27.97  0.0187  28.0074\n3  0.70    30.62   27.98  30.74  30.75  26.18  30.74  30.72  0.0123  30.7427\n4  0.80    31.99   30.13  32.04  32.04  26.93  32.04  32.03  0.0087  32.0412\n5  0.95    33.92   33.41  33.92  33.92  27.97  33.92  33.92  0.0024  33.9187",
      "text/html": "<div>\n<style scoped>\n    .dataframe tbody tr th:only-of-type {\n        vertical-align: middle;\n    }\n\n    .dataframe tbody tr th {\n        vertical-align: top;\n    }\n\n    .dataframe thead th {\n        text-align: right;\n    }\n</style>\n<table border=\"1\" class=\"dataframe\">\n  <thead>\n    <tr style=\"text-align: right;\">\n      <th></th>\n      <th>Cor</th>\n      <th>Beisser</th>\n      <th>Gentle</th>\n      <th>Ju</th>\n      <th>Levy</th>\n      <th>MP-RG</th>\n      <th>MP-4M</th>\n      <th>MC-CV</th>\n      <th>StdDEv</th>\n      <th>Exact</th>\n    </tr>\n  </thead>\n  <tbody>\n    <tr>\n      <th>0</th>\n      <td>0.10</td>\n      <td>20.12</td>\n      <td>15.36</td>\n      <td>21.77</td>\n      <td>22.06</td>\n      <td>20.25</td>\n      <td>21.36</td>\n      <td>21.62</td>\n      <td>0.0319</td>\n      <td>21.6921</td>\n    </tr>\n    <tr>\n      <th>1</th>\n      <td>0.30</td>\n      <td>24.21</td>\n      <td>19.62</td>\n      <td>25.05</td>\n      <td>25.17</td>\n      <td>22.54</td>\n      <td>24.91</td>\n      <td>24.97</td>\n      <td>0.0249</td>\n      <td>25.0293</td>\n    </tr>\n    <tr>\n      <th>2</th>\n      <td>0.50</td>\n      <td>27.63</td>\n      <td>23.78</td>\n      <td>28.01</td>\n      <td>28.05</td>\n      <td>24.50</td>\n      <td>27.98</td>\n      <td>27.97</td>\n      <td>0.0187</td>\n      <td>28.0074</td>\n    </tr>\n    <tr>\n      <th>3</th>\n      <td>0.70</td>\n      <td>30.62</td>\n      <td>27.98</td>\n      <td>30.74</td>\n      <td>30.75</td>\n      <td>26.18</td>\n      <td>30.74</td>\n      <td>30.72</td>\n      <td>0.0123</td>\n      <td>30.7427</td>\n    </tr>\n    <tr>\n      <th>4</th>\n      <td>0.80</td>\n      <td>31.99</td>\n      <td>30.13</td>\n      <td>32.04</td>\n      <td>32.04</td>\n      <td>26.93</td>\n      <td>32.04</td>\n      <td>32.03</td>\n      <td>0.0087</td>\n      <td>32.0412</td>\n    </tr>\n    <tr>\n      <th>5</th>\n      <td>0.95</td>\n      <td>33.92</td>\n      <td>33.41</td>\n      <td>33.92</td>\n      <td>33.92</td>\n      <td>27.97</td>\n      <td>33.92</td>\n      <td>33.92</td>\n      <td>0.0024</td>\n      <td>33.9187</td>\n    </tr>\n  </tbody>\n</table>\n</div>"
     },
     "execution_count": 9,
     "metadata": {},
     "output_type": "execute_result"
    }
   ],
   "source": [
    "df = pd.read_excel(file, sheet_name='1')\n",
    "df"
   ]
  },
  {
   "cell_type": "code",
   "execution_count": 10,
   "metadata": {
    "ExecuteTime": {
     "end_time": "2024-03-08T03:59:40.842432400Z",
     "start_time": "2024-03-08T03:59:40.652437700Z"
    }
   },
   "outputs": [
    {
     "ename": "AttributeError",
     "evalue": "module 'pyfeng' has no attribute 'BsmBasketLowerBound'",
     "output_type": "error",
     "traceback": [
      "\u001B[1;31m---------------------------------------------------------------------------\u001B[0m",
      "\u001B[1;31mAttributeError\u001B[0m                            Traceback (most recent call last)",
      "Cell \u001B[1;32mIn[10], line 4\u001B[0m\n\u001B[0;32m      2\u001B[0m result \u001B[38;5;241m=\u001B[39m np\u001B[38;5;241m.\u001B[39mzeros_like(rhos)\n\u001B[0;32m      3\u001B[0m \u001B[38;5;28;01mfor\u001B[39;00m k \u001B[38;5;129;01min\u001B[39;00m \u001B[38;5;28mrange\u001B[39m(\u001B[38;5;28mlen\u001B[39m(rhos)):\n\u001B[1;32m----> 4\u001B[0m     m \u001B[38;5;241m=\u001B[39m pf\u001B[38;5;241m.\u001B[39mBsmBasketLowerBound(sigma\u001B[38;5;241m=\u001B[39msigma, cor\u001B[38;5;241m=\u001B[39mrhos[k])\n\u001B[0;32m      5\u001B[0m     result[k] \u001B[38;5;241m=\u001B[39m np\u001B[38;5;241m.\u001B[39mround(m\u001B[38;5;241m.\u001B[39mprice(\u001B[38;5;241m100\u001B[39m, \u001B[38;5;241m100\u001B[39m\u001B[38;5;241m*\u001B[39mo4, texp), \u001B[38;5;241m2\u001B[39m)\n\u001B[0;32m      6\u001B[0m np\u001B[38;5;241m.\u001B[39mround(result, \u001B[38;5;241m2\u001B[39m), np\u001B[38;5;241m.\u001B[39mround(result, \u001B[38;5;241m2\u001B[39m) \u001B[38;5;241m-\u001B[39m df[\u001B[38;5;124m'\u001B[39m\u001B[38;5;124mBeisser\u001B[39m\u001B[38;5;124m'\u001B[39m]\u001B[38;5;241m.\u001B[39mvalues\n",
      "\u001B[1;31mAttributeError\u001B[0m: module 'pyfeng' has no attribute 'BsmBasketLowerBound'"
     ]
    }
   ],
   "source": [
    "rhos = [0.1, 0.3, 0.5, 0.7, 0.8, 0.95]\n",
    "result = np.zeros_like(rhos)\n",
    "for k in range(len(rhos)):\n",
    "    m = pf.BsmBasketLowerBound(sigma=sigma, cor=rhos[k])\n",
    "    result[k] = np.round(m.price(100, 100*o4, texp), 2)\n",
    "np.round(result, 2), np.round(result, 2) - df['Beisser'].values"
   ]
  },
  {
   "cell_type": "code",
   "execution_count": null,
   "metadata": {
    "ExecuteTime": {
     "start_time": "2024-03-08T03:59:40.761802200Z"
    }
   },
   "outputs": [],
   "source": [
    "rhos = [0.1, 0.3, 0.5, 0.7, 0.8, 0.95]\n",
    "result = np.zeros_like(rhos)\n",
    "for k in range(len(rhos)):\n",
    "    m = pf.BsmBasketLevy1992(sigma=sigma, cor=rhos[k])\n",
    "    result[k] = np.round(m.price(100, 100*o4, texp), 2)\n",
    "np.round(result, 2), np.round(result, 2) - df['Levy'].values"
   ]
  },
  {
   "cell_type": "code",
   "execution_count": null,
   "metadata": {
    "ExecuteTime": {
     "start_time": "2024-03-08T03:59:40.761802200Z"
    }
   },
   "outputs": [],
   "source": [
    "rhos = [0.1, 0.3, 0.5, 0.7, 0.8, 0.95]\n",
    "result = np.zeros_like(rhos)\n",
    "for k in range(len(rhos)):\n",
    "    m = pf.BsmBasketMilevsky1998(sigma=sigma, cor=rhos[k])\n",
    "    result[k] = np.round(m.price(100, 100*o4, texp), 2)\n",
    "np.round(result, 2), np.round(result, 2) - df['MP-RG'].values"
   ]
  },
  {
   "cell_type": "code",
   "execution_count": null,
   "metadata": {
    "ExecuteTime": {
     "start_time": "2024-03-08T03:59:40.765741700Z"
    }
   },
   "outputs": [],
   "source": [
    "rhos = [0.1, 0.3, 0.5, 0.7, 0.8, 0.95]\n",
    "result = np.zeros_like(rhos)\n",
    "for k in range(len(rhos)):\n",
    "    m = pf.BsmBasketJsu(sigma=sigma, cor=rhos[k])\n",
    "    result[k] = np.round(m.price(100, 100*o4, texp), 2)\n",
    "np.round(result, 2), np.round(result, 2) - df['MP-4M'].values"
   ]
  },
  {
   "cell_type": "markdown",
   "metadata": {},
   "source": [
    "# Table 2\n",
    "## Changing Strike"
   ]
  },
  {
   "cell_type": "code",
   "execution_count": null,
   "metadata": {
    "ExecuteTime": {
     "start_time": "2024-03-08T03:59:40.766756100Z"
    }
   },
   "outputs": [],
   "source": [
    "df = pd.read_excel(file, sheet_name='2')\n",
    "df"
   ]
  },
  {
   "cell_type": "code",
   "execution_count": null,
   "metadata": {
    "ExecuteTime": {
     "start_time": "2024-03-08T03:59:40.768759400Z"
    }
   },
   "outputs": [],
   "source": [
    "strike = np.arange(50, 151, 10)\n",
    "m = pf.BsmBasketLowerBound(sigma=sigma, cor=0.5)\n",
    "result = m.price(strike, spot=100*o4, texp=texp)\n",
    "np.round(result, 2), np.round(result, 2) - df['Beisser'].values"
   ]
  },
  {
   "cell_type": "code",
   "execution_count": null,
   "metadata": {
    "ExecuteTime": {
     "start_time": "2024-03-08T03:59:40.772763700Z"
    }
   },
   "outputs": [],
   "source": [
    "strike = np.arange(50, 151, 10)\n",
    "m = pf.BsmBasketLevy1992(sigma=sigma, cor=0.5)\n",
    "result = m.price(strike, spot=100*o4, texp=texp)\n",
    "np.round(result, 2), np.round(result, 2) - df['Levy'].values"
   ]
  },
  {
   "cell_type": "code",
   "execution_count": null,
   "metadata": {
    "ExecuteTime": {
     "start_time": "2024-03-08T03:59:40.776763300Z"
    }
   },
   "outputs": [],
   "source": [
    "m = pf.BsmBasketMilevsky1998(sigma=sigma, cor=0.5)\n",
    "result = m.price(strike, spot=100*o4, texp=texp)\n",
    "np.round(result, 2), np.round(result, 2) - df['MP-RG'].values"
   ]
  },
  {
   "cell_type": "code",
   "execution_count": null,
   "metadata": {
    "ExecuteTime": {
     "start_time": "2024-03-08T03:59:40.776763300Z"
    }
   },
   "outputs": [],
   "source": [
    "m = pf.BsmBasketJsu(sigma=sigma, cor=0.5)\n",
    "result = m.price(strike, spot=100*o4, texp=texp)\n",
    "np.round(result, 2), np.round(result, 2) - df['MP-4M'].values"
   ]
  },
  {
   "cell_type": "markdown",
   "metadata": {},
   "source": [
    "# Table 3\n",
    "## Changing Forward"
   ]
  },
  {
   "cell_type": "code",
   "execution_count": null,
   "metadata": {
    "ExecuteTime": {
     "start_time": "2024-03-08T03:59:40.780766300Z"
    }
   },
   "outputs": [],
   "source": [
    "df = pd.read_excel(file, sheet_name='3')\n",
    "df"
   ]
  },
  {
   "cell_type": "code",
   "execution_count": null,
   "metadata": {
    "ExecuteTime": {
     "start_time": "2024-03-08T03:59:40.780766300Z"
    }
   },
   "outputs": [],
   "source": [
    "spot = np.arange(50., 151., 10)[:,None]*np.ones(4)\n",
    "result = np.zeros_like(spot[:, 0], dtype=float)\n",
    "for i in range(len(spot[:, 0])):\n",
    "    m = pf.BsmBasketLowerBound(sigma=sigma, cor = 0.5)\n",
    "    result[i] = m.price(100, spot[i], texp)\n",
    "np.round(result, 2), np.round(result, 2) - df['Beisser'].values"
   ]
  },
  {
   "cell_type": "code",
   "execution_count": null,
   "metadata": {
    "ExecuteTime": {
     "start_time": "2024-03-08T03:59:40.783621800Z"
    }
   },
   "outputs": [],
   "source": [
    "spot = np.arange(50, 151, 10)[:,None]*np.ones(4)\n",
    "m = pf.BsmBasketLevy1992(sigma=sigma, cor=0.5)\n",
    "result = m.price(100, spot=spot, texp=texp)\n",
    "np.round(result, 2), np.round(result, 2) - df['Levy'].values"
   ]
  },
  {
   "cell_type": "code",
   "execution_count": null,
   "metadata": {
    "ExecuteTime": {
     "start_time": "2024-03-08T03:59:40.785129700Z"
    }
   },
   "outputs": [],
   "source": [
    "spot = np.arange(50, 151, 10)[:,None]*np.ones(4)\n",
    "m = pf.BsmBasketMilevsky1998(sigma=sigma, cor=0.5)\n",
    "result = m.price(100, spot=spot, texp=texp)\n",
    "np.round(result, 2), np.round(result, 2) - df['MP-RG'].values"
   ]
  },
  {
   "cell_type": "code",
   "execution_count": null,
   "metadata": {
    "ExecuteTime": {
     "start_time": "2024-03-08T03:59:40.785129700Z"
    }
   },
   "outputs": [],
   "source": [
    "spot = np.arange(50., 151., 10)[:,None]*np.ones(4)\n",
    "result = np.zeros_like(spot[:, 0], dtype=float)\n",
    "for i in range(len(spot[:, 0])):\n",
    "    m = pf.BsmBasketJsu(sigma=sigma, cor = 0.5)\n",
    "    result[i] = m.price(100, spot[i], texp)\n",
    "np.round(result, 2), np.round(result, 2) - df['MP-4M'].values"
   ]
  },
  {
   "cell_type": "markdown",
   "metadata": {},
   "source": [
    "# Table 4\n",
    "## Changing all volatilities"
   ]
  },
  {
   "cell_type": "code",
   "execution_count": null,
   "metadata": {
    "ExecuteTime": {
     "start_time": "2024-03-08T03:59:40.789137100Z"
    }
   },
   "outputs": [],
   "source": [
    "df = pd.read_excel(file, sheet_name='4')\n",
    "df"
   ]
  },
  {
   "cell_type": "code",
   "execution_count": null,
   "metadata": {
    "ExecuteTime": {
     "start_time": "2024-03-08T03:59:40.790291800Z"
    }
   },
   "outputs": [],
   "source": [
    "sigmas = np.array([5, 10, 15, 20, 30, 40, 50, 60, 70, 80, 100])/100\n",
    "result = np.zeros_like(sigmas)\n",
    "for k in range(len(sigmas)):\n",
    "    m = pf.BsmBasketLowerBound(sigma=sigmas[k]*o4, cor=0.5)\n",
    "    result[k] = m.price(100, 100*o4, texp)\n",
    "np.round(result, 2), np.round(result, 2) - df['Beisser'].values"
   ]
  },
  {
   "cell_type": "code",
   "execution_count": null,
   "metadata": {
    "ExecuteTime": {
     "start_time": "2024-03-08T03:59:40.790825300Z"
    }
   },
   "outputs": [],
   "source": [
    "sigmas = np.array([5, 10, 15, 20, 30, 40, 50, 60, 70, 80, 100])/100\n",
    "result = np.zeros_like(sigmas)\n",
    "for k in range(len(sigmas)):\n",
    "    m = pf.BsmBasketLevy1992(sigma=sigmas[k]*o4, cor=0.5)\n",
    "    result[k] = m.price(100, 100*o4, texp)\n",
    "np.round(result, 2), np.round(result, 2) - df['Levy'].values"
   ]
  },
  {
   "cell_type": "code",
   "execution_count": null,
   "metadata": {
    "ExecuteTime": {
     "start_time": "2024-03-08T03:59:40.790825300Z"
    }
   },
   "outputs": [],
   "source": [
    "sigmas = np.array([5, 10, 15, 20, 30, 40, 50, 60, 70, 80, 100])/100\n",
    "result = np.zeros_like(sigmas)\n",
    "for k in range(len(sigmas)):\n",
    "    m = pf.BsmBasketMilevsky1998(sigma=sigmas[k]*o4, cor=0.5)\n",
    "    result[k] = m.price(100, 100*o4, texp)\n",
    "np.round(result, 2), np.round(result, 2) - df['MP-RG'].values"
   ]
  },
  {
   "cell_type": "code",
   "execution_count": null,
   "metadata": {
    "ExecuteTime": {
     "start_time": "2024-03-08T03:59:40.793327900Z"
    }
   },
   "outputs": [],
   "source": [
    "sigmas = np.array([5, 10, 15, 20, 30, 40, 50, 60, 70, 80, 100])/100\n",
    "result = np.zeros_like(sigmas)\n",
    "for k in range(len(sigmas)):\n",
    "    m = pf.BsmBasketJsu(sigma=sigmas[k]*o4, cor=0.5)\n",
    "    result[k] = m.price(100, 100*o4, texp)\n",
    "np.round(result, 2), np.round(result, 2) - df['MP-4M'].values"
   ]
  },
  {
   "cell_type": "markdown",
   "metadata": {},
   "source": [
    "# Table 5\n",
    "## Changing the other volatilities with (sigma_1=1)"
   ]
  },
  {
   "cell_type": "code",
   "execution_count": null,
   "metadata": {
    "ExecuteTime": {
     "start_time": "2024-03-08T03:59:40.793327900Z"
    }
   },
   "outputs": [],
   "source": [
    "df = pd.read_excel(file, sheet_name='5')\n",
    "df"
   ]
  },
  {
   "cell_type": "code",
   "execution_count": null,
   "metadata": {
    "ExecuteTime": {
     "start_time": "2024-03-08T03:59:40.793327900Z"
    }
   },
   "outputs": [],
   "source": [
    "sigmas = np.array([5, 10, 15, 20, 30, 40, 50, 60, 70, 80, 100])/100\n",
    "result = np.zeros_like(sigmas)\n",
    "for k in range(len(sigmas)):\n",
    "    sigma_asym = np.array([sigmas[k], sigmas[k], sigmas[k], 1])\n",
    "    m = pf.BsmBasketLowerBound(sigma=sigma_asym, cor=0.5)\n",
    "    result[k] = m.price(100, 100*o4, texp)\n",
    "np.round(result, 2), np.round(result, 2) - df['Beisser'].values"
   ]
  },
  {
   "cell_type": "code",
   "execution_count": null,
   "metadata": {
    "ExecuteTime": {
     "start_time": "2024-03-08T03:59:40.793327900Z"
    }
   },
   "outputs": [],
   "source": [
    "sigmas = np.array([5, 10, 15, 20, 30, 40, 50, 60, 70, 80, 100])/100\n",
    "result = np.zeros_like(sigmas)\n",
    "for k in range(len(sigmas)):\n",
    "    sigma_asym = np.array([sigmas[k], sigmas[k], sigmas[k], 1])\n",
    "    m = pf.BsmBasketLevy1992(sigma=sigma_asym, cor=0.5)\n",
    "    result[k] = m.price(100, 100*o4, texp)\n",
    "np.round(result, 2), np.round(result, 2) - df['Levy'].values"
   ]
  },
  {
   "cell_type": "code",
   "execution_count": null,
   "metadata": {
    "ExecuteTime": {
     "start_time": "2024-03-08T03:59:40.797330900Z"
    }
   },
   "outputs": [],
   "source": [
    "sigmas = np.array([5, 10, 15, 20, 30, 40, 50, 60, 70, 80, 100])/100\n",
    "result = np.zeros_like(sigmas)\n",
    "for k in range(len(sigmas)):\n",
    "    sigma_asym = np.array([sigmas[k], sigmas[k], sigmas[k], 1])\n",
    "    m = pf.BsmBasketMilevsky1998(sigma=sigma_asym, cor=0.5)\n",
    "    result[k] = m.price(100, 100*o4, texp)\n",
    "np.round(result, 2), np.round(result, 2) - df['MP-RG'].values"
   ]
  },
  {
   "cell_type": "code",
   "execution_count": null,
   "metadata": {
    "ExecuteTime": {
     "start_time": "2024-03-08T03:59:40.797330900Z"
    }
   },
   "outputs": [],
   "source": [
    "sigmas = np.array([5, 10, 15, 20, 30, 40, 50, 60, 70, 80, 100])/100\n",
    "result = np.zeros_like(sigmas)\n",
    "for k in range(len(sigmas)):\n",
    "    sigma_asym = np.array([sigmas[k], sigmas[k], sigmas[k], 1])\n",
    "    m = pf.BsmBasketJsu(sigma=sigma_asym, cor=0.5)\n",
    "    result[k] = m.price(100, 100*o4, texp)\n",
    "np.round(result, 2), np.round(result, 2) - df['MP-4M'].values"
   ]
  },
  {
   "cell_type": "code",
   "execution_count": null,
   "metadata": {
    "ExecuteTime": {
     "start_time": "2024-03-08T03:59:40.797330900Z"
    }
   },
   "outputs": [],
   "source": []
  }
 ],
 "metadata": {
  "kernelspec": {
   "display_name": "Python 3 (ipykernel)",
   "language": "python",
   "name": "python3"
  },
  "language_info": {
   "codemirror_mode": {
    "name": "ipython",
    "version": 3
   },
   "file_extension": ".py",
   "mimetype": "text/x-python",
   "name": "python",
   "nbconvert_exporter": "python",
   "pygments_lexer": "ipython3",
   "version": "3.8.11"
  }
 },
 "nbformat": 4,
 "nbformat_minor": 4
}
